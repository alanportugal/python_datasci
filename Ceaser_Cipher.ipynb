{
  "nbformat": 4,
  "nbformat_minor": 0,
  "metadata": {
    "colab": {
      "name": "Copy of Ceaser_Cipher.ipynb",
      "provenance": [],
      "collapsed_sections": [],
      "authorship_tag": "ABX9TyNdLaykEu0MFWC9FK/SG20r",
      "include_colab_link": true
    },
    "kernelspec": {
      "name": "python3",
      "display_name": "Python 3"
    },
    "language_info": {
      "name": "python"
    }
  },
  "cells": [
    {
      "cell_type": "markdown",
      "metadata": {
        "id": "view-in-github",
        "colab_type": "text"
      },
      "source": [
        "<a href=\"https://colab.research.google.com/github/alanportugal/python_datasci/blob/main/Ceaser_Cipher.ipynb\" target=\"_parent\"><img src=\"https://colab.research.google.com/assets/colab-badge.svg\" alt=\"Open In Colab\"/></a>"
      ]
    },
    {
      "cell_type": "code",
      "metadata": {
        "id": "COwhX0eBHw0d"
      },
      "source": [
        "#======================================\n",
        "#Ceaser Cipher\n",
        "#======================================\n",
        "letters = \"ABCDEFGHIJKLMNOPQRSTUVWXYZabcdefghijklmnopqrstuvwxyz\"\n",
        "cipher = {letters[i]: letters[(i-3) % len(letters)] for i in range(len(letters))}\n",
        "decoder = {letters[i]: letters[(i+3) % len(letters)] for i in range(len(letters))}\n",
        "\n",
        "def transform_message(message, cipher):\n",
        "    tmsg = ''\n",
        "    for c in message:\n",
        "        tmsg = tmsg + cipher.get(c,c)\n",
        "    return tmsg\n",
        "\n",
        "test = \"I come to bury Caesar, not to praise him.\"\n",
        "print(transform_message(test, cipher))\n",
        "ttest = transform_message(test, cipher)"
      ],
      "execution_count": null,
      "outputs": []
    }
  ]
}